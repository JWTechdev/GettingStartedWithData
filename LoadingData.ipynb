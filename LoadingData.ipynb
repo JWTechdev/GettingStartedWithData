{
 "cells": [
  {
   "cell_type": "markdown",
   "metadata": {},
   "source": [
    "# Getting Started with Data\n",
    "\n",
    "Example code blocks showing how to load various data types into Python\n",
    "\n",
    "*Designed for Python 3.5+*"
   ]
  },
  {
   "cell_type": "code",
   "execution_count": 4,
   "metadata": {
    "collapsed": true
   },
   "outputs": [],
   "source": [
    "#pandas is commonly imported as pd\n",
    "import pandas as pd\n",
    "\n",
    "#We'll import the other libraries as needed"
   ]
  },
  {
   "cell_type": "markdown",
   "metadata": {},
   "source": [
    "## .csv — Comma-Separated Values\n",
    "\n",
    "Desc\n",
    "\n",
    "### Std Python\n",
    "\n",
    "Conceptually, the basics of a CSV are just like splitting a string by commas:"
   ]
  },
  {
   "cell_type": "code",
   "execution_count": 5,
   "metadata": {
    "collapsed": false
   },
   "outputs": [
    {
     "name": "stdout",
     "output_type": "stream",
     "text": [
      "['1', '2.0', 'Three point five', 'True']\n"
     ]
    }
   ],
   "source": [
    "csv_row = '1,2.0,Three point five,True'\n",
    "print(csv_row.split(','))"
   ]
  },
  {
   "cell_type": "markdown",
   "metadata": {},
   "source": [
    "### Pandas"
   ]
  },
  {
   "cell_type": "code",
   "execution_count": null,
   "metadata": {
    "collapsed": true
   },
   "outputs": [],
   "source": []
  },
  {
   "cell_type": "markdown",
   "metadata": {},
   "source": [
    "## .xls .xlsx — Excel Spreadsheet\n",
    "\n",
    "Desc\n",
    "\n",
    "### Std Python\n",
    "\n"
   ]
  },
  {
   "cell_type": "code",
   "execution_count": null,
   "metadata": {
    "collapsed": true
   },
   "outputs": [],
   "source": []
  },
  {
   "cell_type": "markdown",
   "metadata": {},
   "source": [
    "### Pandas"
   ]
  },
  {
   "cell_type": "code",
   "execution_count": null,
   "metadata": {
    "collapsed": true
   },
   "outputs": [],
   "source": [
    "# Suggestion: functions named after file type and if with Pandas\n",
    "#   ie, csv_load and csv_pandas or similar\n",
    "\n",
    "# only making one Excel function, two outputs to demo\n",
    "def Excel(file):\n",
    "\n",
    "    # Pandas excel loader is built off of several other excel readers,\n",
    "    # such as openXLRD and xlsxwriter\n",
    "\n",
    "    # this is reflected in how many ways there are to read in an excel file.\n",
    "    basicLoad = pd.read_excel(file)\n",
    "    alternateLoad = pd.ExcelFile(file)\n",
    "\n",
    "    # read_excel defaults to read the first sheet in an excel book\n",
    "    # For a comprehensive list of parameters for read_excel, see: http://pandas.pydata.org/pandas-docs/stable/generated/pandas.read_excel.html\n",
    "    # you can specify the sheets you want by name\n",
    "    sheetByName = pd.read_excel(file, sheetname=\"Sheet1\")\n",
    "    # by index\n",
    "    sheetsByIndex = pd.read_excel(file, sheetname=[0, 1, 5])\n",
    "\n",
    "    # if you don't know which sheets you want, you can specify header=None and\n",
    "    # all sheets will be loaded in a nested structure:\n",
    "    # do both of these work???\n",
    "    allSheetsByHeader = pd.read_excel(file, header=None)\n",
    "    allSheetsBySheets = pd.read_excel(file, sheetname=0)\n",
    "\n",
    "    # You can skip rows or columns\n",
    "    subset = pd.read_excel(file, skip_footer=5, skiprows=2, names=[\"COLNAMES\"])\n",
    "\n",
    "    return basicLoad, alternateLoad, sheetByName, sheetsByIndex, allSheetsByHeader, allSheetsBySheets, subset"
   ]
  },
  {
   "cell_type": "markdown",
   "metadata": {},
   "source": [
    "## .json — JavaScript Object Notation\n",
    "\n",
    "Desc\n",
    "\n",
    "### Std Python\n",
    "\n"
   ]
  },
  {
   "cell_type": "code",
   "execution_count": null,
   "metadata": {
    "collapsed": true
   },
   "outputs": [],
   "source": []
  },
  {
   "cell_type": "markdown",
   "metadata": {},
   "source": [
    "### Pandas"
   ]
  },
  {
   "cell_type": "code",
   "execution_count": null,
   "metadata": {
    "collapsed": true
   },
   "outputs": [],
   "source": []
  },
  {
   "cell_type": "markdown",
   "metadata": {},
   "source": [
    "## .xml — eXtensible Markup Language\n",
    "\n",
    "Desc\n",
    "\n",
    "### Std Python\n",
    "\n",
    "\n"
   ]
  },
  {
   "cell_type": "code",
   "execution_count": null,
   "metadata": {
    "collapsed": true
   },
   "outputs": [],
   "source": []
  },
  {
   "cell_type": "markdown",
   "metadata": {},
   "source": [
    "### Pandas"
   ]
  },
  {
   "cell_type": "code",
   "execution_count": null,
   "metadata": {
    "collapsed": true
   },
   "outputs": [],
   "source": []
  },
  {
   "cell_type": "markdown",
   "metadata": {},
   "source": [
    "## .yml .yaml — Yet Another Markup Language\n",
    "\n",
    "Desc\n",
    "\n",
    "### Std Python\n",
    "\n",
    "\n"
   ]
  },
  {
   "cell_type": "code",
   "execution_count": null,
   "metadata": {
    "collapsed": true
   },
   "outputs": [],
   "source": []
  },
  {
   "cell_type": "markdown",
   "metadata": {},
   "source": [
    "### Pandas"
   ]
  },
  {
   "cell_type": "code",
   "execution_count": null,
   "metadata": {
    "collapsed": true
   },
   "outputs": [],
   "source": []
  },
  {
   "cell_type": "markdown",
   "metadata": {},
   "source": [
    "## .p .pkl — Pickle\n",
    "\n",
    "Desc"
   ]
  },
  {
   "cell_type": "code",
   "execution_count": null,
   "metadata": {
    "collapsed": true
   },
   "outputs": [],
   "source": []
  }
 ],
 "metadata": {
  "kernelspec": {
   "display_name": "Python [default]",
   "language": "python",
   "name": "python3"
  },
  "language_info": {
   "codemirror_mode": {
    "name": "ipython",
    "version": 3
   },
   "file_extension": ".py",
   "mimetype": "text/x-python",
   "name": "python",
   "nbconvert_exporter": "python",
   "pygments_lexer": "ipython3",
   "version": "3.5.2"
  }
 },
 "nbformat": 4,
 "nbformat_minor": 2
}
