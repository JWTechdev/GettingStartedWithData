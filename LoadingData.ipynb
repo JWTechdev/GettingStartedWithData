{
 "cells": [
  {
   "cell_type": "markdown",
   "metadata": {},
   "source": [
    "# Getting Started with Data\n",
    "\n",
    "Example code blocks showing how to load various data types into Python\n",
    "\n",
    "*Designed for Python 3.5+*"
   ]
  },
  {
   "cell_type": "code",
   "execution_count": null,
   "metadata": {
    "collapsed": true
   },
   "outputs": [],
   "source": [
    "#pandas is commonly imported as pd\n",
    "import pandas as pd\n",
    "\n",
    "#We'll import the other libraries as needed"
   ]
  },
  {
   "cell_type": "markdown",
   "metadata": {},
   "source": [
    "## .csv — Comma-Separated Values\n",
    "\n",
    "Desc\n",
    "\n",
    "### Std Python\n",
    "\n",
    "Conceptually, the basics of a CSV are just like splitting a string by commas:"
   ]
  },
  {
   "cell_type": "code",
   "execution_count": null,
   "metadata": {
    "collapsed": false
   },
   "outputs": [],
   "source": [
    "csv_row = '1,2.0,Three point five,True'\n",
    "print(csv_row.split(','))"
   ]
  },
  {
   "cell_type": "markdown",
   "metadata": {},
   "source": [
    "### Pandas"
   ]
  },
  {
   "cell_type": "code",
   "execution_count": null,
   "metadata": {
    "collapsed": false
   },
   "outputs": [],
   "source": [
    "print pd.read_csv(csv_row)"
   ]
  },
  {
   "cell_type": "markdown",
   "metadata": {},
   "source": [
    "## .xls .xlsx — Excel Spreadsheet\n",
    "\n",
    "Desc\n",
    "\n",
    "### Std Python\n",
    "\n"
   ]
  },
  {
   "cell_type": "code",
   "execution_count": 19,
   "metadata": {
    "collapsed": false
   },
   "outputs": [
    {
     "ename": "AttributeError",
     "evalue": "'tuple' object has no attribute 'value'",
     "output_type": "error",
     "traceback": [
      "\u001b[0;31m---------------------------------------------------------------------------\u001b[0m",
      "\u001b[0;31mAttributeError\u001b[0m                            Traceback (most recent call last)",
      "\u001b[0;32m<ipython-input-19-51351818944c>\u001b[0m in \u001b[0;36m<module>\u001b[0;34m()\u001b[0m\n\u001b[1;32m     16\u001b[0m \u001b[0;32mfor\u001b[0m \u001b[0mrow\u001b[0m \u001b[0;32min\u001b[0m \u001b[0mdata\u001b[0m\u001b[0;34m:\u001b[0m\u001b[0;34m\u001b[0m\u001b[0m\n\u001b[1;32m     17\u001b[0m     \u001b[0;32mfor\u001b[0m \u001b[0mcell\u001b[0m \u001b[0;32min\u001b[0m \u001b[0mrow\u001b[0m\u001b[0;34m:\u001b[0m\u001b[0;34m\u001b[0m\u001b[0m\n\u001b[0;32m---> 18\u001b[0;31m         \u001b[0mprint\u001b[0m\u001b[0;34m(\u001b[0m\u001b[0mcell\u001b[0m\u001b[0;34m.\u001b[0m\u001b[0mvalue\u001b[0m\u001b[0;34m)\u001b[0m\u001b[0;34m\u001b[0m\u001b[0m\n\u001b[0m",
      "\u001b[0;31mAttributeError\u001b[0m: 'tuple' object has no attribute 'value'"
     ]
    }
   ],
   "source": [
    "import openpyxl\n",
    "# you can also use xlrd, xlsxwriter, and a host of others. See http://www.python-excel.org/ for all your options.\n",
    "wb = openpyxl.Workbook()\n",
    "ws = wb.create_sheet(\"NewSheet\")\n",
    "\n",
    "ws['A1'] = \"Name\"\n",
    "ws['A2'] = \"Michael\"\n",
    "ws['B1'] = \"fav_color\"\n",
    "ws['B2'] = \"Purple\"\n",
    "\n",
    "wb.save(\"ExcelData.xlsx\")\n",
    "\n",
    "\n",
    "excel_row = 'ExcelData.xlsx'\n",
    "data = openpyxl.load_workbook(excel_row)\n",
    "for row in data:\n",
    "    for cell in row:\n",
    "        print(cell.value)"
   ]
  },
  {
   "cell_type": "markdown",
   "metadata": {},
   "source": [
    "### Pandas"
   ]
  },
  {
   "cell_type": "code",
   "execution_count": null,
   "metadata": {
    "collapsed": true
   },
   "outputs": [],
   "source": [
    "# Suggestion: functions named after file type and if with Pandas\n",
    "#   ie, csv_load and csv_pandas or similar\n",
    "\n",
    "file = \"some excel file\"\n",
    "# only making one Excel function, two outputs to demo\n",
    "def Excel(file):\n",
    "\n",
    "    # Pandas excel loader is built off of several other excel readers,\n",
    "    # such as openXLRD and xlsxwriter\n",
    "\n",
    "    # this is reflected in how many ways there are to read in an excel file.\n",
    "    basicLoad = pd.read_excel(file)\n",
    "    alternateLoad = pd.ExcelFile(file)\n",
    "\n",
    "    # read_excel defaults to read the first sheet in an excel book\n",
    "    # For a comprehensive list of parameters for read_excel, see: http://pandas.pydata.org/pandas-docs/stable/generated/pandas.read_excel.html\n",
    "    # you can specify the sheets you want by name\n",
    "    sheetByName = pd.read_excel(file, sheetname=\"Sheet1\")\n",
    "    # by index\n",
    "    sheetsByIndex = pd.read_excel(file, sheetname=[0, 1, 5])\n",
    "\n",
    "    # if you don't know which sheets you want, you can specify header=None and\n",
    "    # all sheets will be loaded in a nested structure:\n",
    "    allSheetsByHeader = pd.read_excel(file, header=None)\n",
    "    allSheetsBySheets = pd.read_excel(file, sheetname=0)\n",
    "\n",
    "    # You can skip rows or columns\n",
    "    subset = pd.read_excel(file, skip_footer=5, skiprows=2, names=[\"COLNAMES\"])\n",
    "\n",
    "    return basicLoad, alternateLoad, sheetByName, sheetsByIndex, allSheetsByHeader, allSheetsBySheets, subset"
   ]
  },
  {
   "cell_type": "markdown",
   "metadata": {},
   "source": [
    "## .json — JavaScript Object Notation\n",
    "\n",
    "Desc\n",
    "\n",
    "### Std Python\n",
    "\n"
   ]
  },
  {
   "cell_type": "code",
   "execution_count": null,
   "metadata": {
    "collapsed": false
   },
   "outputs": [],
   "source": [
    "import json\n",
    "json_row = json.dumps([{\"name\": \"Michael\", \"fav_color\": \"purple\"}])"
   ]
  },
  {
   "cell_type": "markdown",
   "metadata": {},
   "source": [
    "### Pandas"
   ]
  },
  {
   "cell_type": "code",
   "execution_count": null,
   "metadata": {
    "collapsed": false
   },
   "outputs": [],
   "source": [
    "print(pd.read_json(json_row))"
   ]
  },
  {
   "cell_type": "markdown",
   "metadata": {},
   "source": [
    "## .xml — eXtensible Markup Language\n",
    "\n",
    "Desc\n",
    "\n",
    "### Std Python\n",
    "\n",
    "\n"
   ]
  },
  {
   "cell_type": "code",
   "execution_count": null,
   "metadata": {
    "collapsed": true
   },
   "outputs": [],
   "source": []
  },
  {
   "cell_type": "markdown",
   "metadata": {},
   "source": [
    "### Pandas"
   ]
  },
  {
   "cell_type": "code",
   "execution_count": null,
   "metadata": {
    "collapsed": true
   },
   "outputs": [],
   "source": []
  },
  {
   "cell_type": "markdown",
   "metadata": {},
   "source": [
    "## .yml .yaml — Yet Another Markup Language\n",
    "\n",
    "Desc\n",
    "\n",
    "### Std Python\n",
    "\n",
    "\n"
   ]
  },
  {
   "cell_type": "code",
   "execution_count": null,
   "metadata": {
    "collapsed": false
   },
   "outputs": [],
   "source": []
  },
  {
   "cell_type": "markdown",
   "metadata": {},
   "source": [
    "### Pandas"
   ]
  },
  {
   "cell_type": "code",
   "execution_count": null,
   "metadata": {
    "collapsed": false
   },
   "outputs": [],
   "source": []
  },
  {
   "cell_type": "markdown",
   "metadata": {},
   "source": [
    "## .p .pkl — Pickle\n",
    "\n",
    "Desc"
   ]
  },
  {
   "cell_type": "markdown",
   "metadata": {},
   "source": [
    "### Std Python"
   ]
  },
  {
   "cell_type": "code",
   "execution_count": null,
   "metadata": {
    "collapsed": true
   },
   "outputs": [],
   "source": [
    "import pickle\n",
    "\n",
    "# issue here: pickle seems to need to be written to a file to be un-pickled?\n",
    "pickle_row = pickle.dumps([{\"name\": \"Michael\", \"fav_color\": \"purple\"}])\n",
    "# print(pickle.load(pickle_row))"
   ]
  },
  {
   "cell_type": "markdown",
   "metadata": {},
   "source": [
    "### Pandas"
   ]
  },
  {
   "cell_type": "code",
   "execution_count": null,
   "metadata": {
    "collapsed": false
   },
   "outputs": [],
   "source": [
    "# same issue as above: write to file\n",
    "pd.read_pickle(pickle_row)"
   ]
  },
  {
   "cell_type": "code",
   "execution_count": null,
   "metadata": {
    "collapsed": true
   },
   "outputs": [],
   "source": []
  }
 ],
 "metadata": {
  "kernelspec": {
   "display_name": "Python 3",
   "language": "python",
   "name": "python3"
  },
  "language_info": {
   "codemirror_mode": {
    "name": "ipython",
    "version": 3
   },
   "file_extension": ".py",
   "mimetype": "text/x-python",
   "name": "python",
   "nbconvert_exporter": "python",
   "pygments_lexer": "ipython3",
   "version": "3.5.1"
  }
 },
 "nbformat": 4,
 "nbformat_minor": 2
}
