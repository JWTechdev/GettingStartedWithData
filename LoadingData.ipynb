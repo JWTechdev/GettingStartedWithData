{
 "cells": [
  {
   "cell_type": "markdown",
   "metadata": {},
   "source": [
    "# Getting Started with Data\n",
    "\n",
    "Example code blocks showing how to load various data types into Python\n",
    "\n",
    "*Designed for Python 3.5+*"
   ]
  },
  {
   "cell_type": "code",
   "execution_count": 21,
   "metadata": {
    "collapsed": true
   },
   "outputs": [],
   "source": [
    "#pandas is commonly imported as pd\n",
    "import pandas as pd\n",
    "\n",
    "#We'll import the other libraries as needed"
   ]
  },
  {
   "cell_type": "markdown",
   "metadata": {},
   "source": [
    "## .csv — Comma-Separated Values\n",
    "\n",
    "Data type with the least overhead (aka file size) and very common\n",
    "\n",
    "### Std Python\n",
    "\n",
    "Conceptually, the basics of a CSV are just like splitting a string by commas:"
   ]
  },
  {
   "cell_type": "code",
   "execution_count": 24,
   "metadata": {
    "collapsed": false
   },
   "outputs": [
    {
     "name": "stdout",
     "output_type": "stream",
     "text": [
      "Split on comma as strings\n",
      "['1', '2.0', 'Three point five', 'True']\n",
      "\n",
      "Split on comma and converted to ints\n",
      "[1, 2, 3, 4, 5, 6, 7, 8, 9]\n"
     ]
    }
   ],
   "source": [
    "print(\"Split on comma as strings\")\n",
    "csv_row = '1,2.0,Three point five,True'\n",
    "print(csv_row.split(','))\n",
    "\n",
    "print(\"\\nSplit on comma and converted to ints\")\n",
    "csv_row = '1,2,3,4,5,6,7,8,9'\n",
    "print([int(c) for c in csv_row.split(',')])"
   ]
  },
  {
   "cell_type": "markdown",
   "metadata": {},
   "source": [
    "But there are more than just strings or rows with a single data type. We can use the csv library to handle edge cases and memory management for us."
   ]
  },
  {
   "cell_type": "code",
   "execution_count": 11,
   "metadata": {
    "collapsed": false
   },
   "outputs": [
    {
     "name": "stdout",
     "output_type": "stream",
     "text": [
      "['Number', 'Name', 'Country', 'Region', 'Type', 'Activity Evidence', 'Last Known Eruption', 'Latitude', 'Longitude', 'Elevation (Meters)', 'Dominant Rock Type', 'Tectonic Setting']\n",
      "\n",
      "['210010', 'West Eifel Volcanic Field', 'Germany', 'Mediterranean and Western Asia', 'Maar(s)', 'Eruption Dated', '8300 BCE', '50.17', '6.85', '600', 'Foidite', 'Rift Zone / Continental Crust (>25 km)']\n"
     ]
    }
   ],
   "source": [
    "import csv\n",
    "with open('data/volcanoes.csv') as fin:\n",
    "    csv_data = csv.reader(fin)\n",
    "    #csv.reader is a generator\n",
    "    #for row in csv_data: do stuff\n",
    "    print(csv_data.__next__())\n",
    "    print()\n",
    "    print(csv_data.__next__())"
   ]
  },
  {
   "cell_type": "code",
   "execution_count": 16,
   "metadata": {
    "collapsed": false
   },
   "outputs": [
    {
     "name": "stdout",
     "output_type": "stream",
     "text": [
      "OrderedDict([('Number', '210010'), ('Name', 'West Eifel Volcanic Field'), ('Country', 'Germany'), ('Region', 'Mediterranean and Western Asia'), ('Type', 'Maar(s)'), ('Activity Evidence', 'Eruption Dated'), ('Last Known Eruption', '8300 BCE'), ('Latitude', '50.17'), ('Longitude', '6.85'), ('Elevation (Meters)', '600'), ('Dominant Rock Type', 'Foidite'), ('Tectonic Setting', 'Rift Zone / Continental Crust (>25 km)')])\n",
      "\n",
      "Name: West Eifel Volcanic Field \n",
      "Type: Maar(s)\n"
     ]
    }
   ],
   "source": [
    "with open('data/volcanoes.csv') as fin:\n",
    "    csv_dict_data = csv.DictReader(fin)\n",
    "    for row in csv_dict_data:\n",
    "        print(row)\n",
    "        print()\n",
    "        print('Name:', row['Name'], '\\nType:', row['Type'])\n",
    "        break"
   ]
  },
  {
   "cell_type": "markdown",
   "metadata": {},
   "source": [
    "### Pandas\n",
    "\n",
    "Because CSV matches the structure of pandas.DataFrame, it's really easy to import the data."
   ]
  },
  {
   "cell_type": "code",
   "execution_count": 31,
   "metadata": {
    "collapsed": false
   },
   "outputs": [
    {
     "data": {
      "text/html": [
       "<div>\n",
       "<table border=\"1\" class=\"dataframe\">\n",
       "  <thead>\n",
       "    <tr style=\"text-align: right;\">\n",
       "      <th></th>\n",
       "      <th>Number</th>\n",
       "      <th>Name</th>\n",
       "      <th>Country</th>\n",
       "      <th>Region</th>\n",
       "      <th>Type</th>\n",
       "      <th>Activity Evidence</th>\n",
       "      <th>Last Known Eruption</th>\n",
       "      <th>Latitude</th>\n",
       "      <th>Longitude</th>\n",
       "      <th>Elevation (Meters)</th>\n",
       "      <th>Dominant Rock Type</th>\n",
       "      <th>Tectonic Setting</th>\n",
       "    </tr>\n",
       "  </thead>\n",
       "  <tbody>\n",
       "    <tr>\n",
       "      <th>0</th>\n",
       "      <td>210010</td>\n",
       "      <td>West Eifel Volcanic Field</td>\n",
       "      <td>Germany</td>\n",
       "      <td>Mediterranean and Western Asia</td>\n",
       "      <td>Maar(s)</td>\n",
       "      <td>Eruption Dated</td>\n",
       "      <td>8300 BCE</td>\n",
       "      <td>50.170</td>\n",
       "      <td>6.85</td>\n",
       "      <td>600</td>\n",
       "      <td>Foidite</td>\n",
       "      <td>Rift Zone / Continental Crust (&gt;25 km)</td>\n",
       "    </tr>\n",
       "    <tr>\n",
       "      <th>1</th>\n",
       "      <td>210020</td>\n",
       "      <td>Chaine des Puys</td>\n",
       "      <td>France</td>\n",
       "      <td>Mediterranean and Western Asia</td>\n",
       "      <td>Lava dome(s)</td>\n",
       "      <td>Eruption Dated</td>\n",
       "      <td>4040 BCE</td>\n",
       "      <td>45.775</td>\n",
       "      <td>2.97</td>\n",
       "      <td>1464</td>\n",
       "      <td>Basalt / Picro-Basalt</td>\n",
       "      <td>Rift Zone / Continental Crust (&gt;25 km)</td>\n",
       "    </tr>\n",
       "    <tr>\n",
       "      <th>2</th>\n",
       "      <td>210030</td>\n",
       "      <td>Olot Volcanic Field</td>\n",
       "      <td>Spain</td>\n",
       "      <td>Mediterranean and Western Asia</td>\n",
       "      <td>Pyroclastic cone(s)</td>\n",
       "      <td>Evidence Credible</td>\n",
       "      <td>Unknown</td>\n",
       "      <td>42.170</td>\n",
       "      <td>2.53</td>\n",
       "      <td>893</td>\n",
       "      <td>Trachybasalt / Tephrite Basanite</td>\n",
       "      <td>Intraplate / Continental Crust (&gt;25 km)</td>\n",
       "    </tr>\n",
       "    <tr>\n",
       "      <th>3</th>\n",
       "      <td>210040</td>\n",
       "      <td>Calatrava Volcanic Field</td>\n",
       "      <td>Spain</td>\n",
       "      <td>Mediterranean and Western Asia</td>\n",
       "      <td>Pyroclastic cone(s)</td>\n",
       "      <td>Eruption Dated</td>\n",
       "      <td>3600 BCE</td>\n",
       "      <td>38.870</td>\n",
       "      <td>-4.02</td>\n",
       "      <td>1117</td>\n",
       "      <td>Basalt / Picro-Basalt</td>\n",
       "      <td>Intraplate / Continental Crust (&gt;25 km)</td>\n",
       "    </tr>\n",
       "    <tr>\n",
       "      <th>4</th>\n",
       "      <td>211001</td>\n",
       "      <td>Larderello</td>\n",
       "      <td>Italy</td>\n",
       "      <td>Mediterranean and Western Asia</td>\n",
       "      <td>Explosion crater(s)</td>\n",
       "      <td>Eruption Observed</td>\n",
       "      <td>1282 CE</td>\n",
       "      <td>43.250</td>\n",
       "      <td>10.87</td>\n",
       "      <td>500</td>\n",
       "      <td>No Data</td>\n",
       "      <td>Subduction Zone / Continental Crust (&gt;25 km)</td>\n",
       "    </tr>\n",
       "  </tbody>\n",
       "</table>\n",
       "</div>"
      ],
      "text/plain": [
       "   Number                       Name  Country                          Region  \\\n",
       "0  210010  West Eifel Volcanic Field  Germany  Mediterranean and Western Asia   \n",
       "1  210020            Chaine des Puys   France  Mediterranean and Western Asia   \n",
       "2  210030        Olot Volcanic Field    Spain  Mediterranean and Western Asia   \n",
       "3  210040   Calatrava Volcanic Field    Spain  Mediterranean and Western Asia   \n",
       "4  211001                 Larderello    Italy  Mediterranean and Western Asia   \n",
       "\n",
       "                  Type  Activity Evidence Last Known Eruption  Latitude  \\\n",
       "0              Maar(s)     Eruption Dated            8300 BCE    50.170   \n",
       "1         Lava dome(s)     Eruption Dated            4040 BCE    45.775   \n",
       "2  Pyroclastic cone(s)  Evidence Credible             Unknown    42.170   \n",
       "3  Pyroclastic cone(s)     Eruption Dated            3600 BCE    38.870   \n",
       "4  Explosion crater(s)  Eruption Observed             1282 CE    43.250   \n",
       "\n",
       "   Longitude  Elevation (Meters)                Dominant Rock Type  \\\n",
       "0       6.85                 600                           Foidite   \n",
       "1       2.97                1464             Basalt / Picro-Basalt   \n",
       "2       2.53                 893  Trachybasalt / Tephrite Basanite   \n",
       "3      -4.02                1117             Basalt / Picro-Basalt   \n",
       "4      10.87                 500                           No Data   \n",
       "\n",
       "                               Tectonic Setting  \n",
       "0        Rift Zone / Continental Crust (>25 km)  \n",
       "1        Rift Zone / Continental Crust (>25 km)  \n",
       "2       Intraplate / Continental Crust (>25 km)  \n",
       "3       Intraplate / Continental Crust (>25 km)  \n",
       "4  Subduction Zone / Continental Crust (>25 km)  "
      ]
     },
     "execution_count": 31,
     "metadata": {},
     "output_type": "execute_result"
    }
   ],
   "source": [
    "csv_df = pd.read_csv(open('data/volcanoes.csv'))\n",
    "csv_df.head()"
   ]
  },
  {
   "cell_type": "markdown",
   "metadata": {},
   "source": [
    "## .xls .xlsx — Excel Spreadsheet\n",
    "\n",
    "Excel spreadsheets are more complicated than CSV (ex they can contain multiple datasets), but they still follow the 2D array format of a CSV and DataFrames\n",
    "\n",
    "### Std Python\n",
    "\n"
   ]
  },
  {
   "cell_type": "code",
   "execution_count": 19,
   "metadata": {
    "collapsed": false
   },
   "outputs": [
    {
     "name": "stdout",
     "output_type": "stream",
     "text": [
      "(<Cell Sheet.A1>,)\n",
      "None\n",
      "(<Cell NewSheet.A1>, <Cell NewSheet.B1>)\n",
      "Name fav_color\n",
      "(<Cell NewSheet.A2>, <Cell NewSheet.B2>)\n",
      "Michael Purple\n"
     ]
    }
   ],
   "source": [
    "import openpyxl\n",
    "# You can also use xlrd, xlsxwriter, and a host of others.\n",
    "# See http://www.python-excel.org/ for all your options.\n",
    "wb = openpyxl.Workbook()\n",
    "ws = wb.create_sheet(\"NewSheet\")\n",
    "\n",
    "ws['A1'] = \"Name\"\n",
    "ws['A2'] = \"Michael\"\n",
    "ws['B1'] = \"fav_color\"\n",
    "ws['B2'] = \"Purple\"\n",
    "\n",
    "wb.save(\"data/ExcelData.xlsx\")\n",
    "\n",
    "\n",
    "excel_row = 'data/ExcelData.xlsx'\n",
    "data = openpyxl.load_workbook(excel_row)\n",
    "for sheet in data:\n",
    "    for row in sheet:\n",
    "        print(row)\n",
    "        print(*[cell.value for cell in row])"
   ]
  },
  {
   "cell_type": "markdown",
   "metadata": {},
   "source": [
    "### Pandas"
   ]
  },
  {
   "cell_type": "code",
   "execution_count": 30,
   "metadata": {
    "collapsed": false
   },
   "outputs": [
    {
     "data": {
      "text/html": [
       "<div>\n",
       "<table border=\"1\" class=\"dataframe\">\n",
       "  <thead>\n",
       "    <tr style=\"text-align: right;\">\n",
       "      <th></th>\n",
       "      <th>Number</th>\n",
       "      <th>Name</th>\n",
       "      <th>Country</th>\n",
       "      <th>Region</th>\n",
       "      <th>Type</th>\n",
       "      <th>Activity Evidence</th>\n",
       "      <th>Last Known Eruption</th>\n",
       "      <th>Latitude</th>\n",
       "      <th>Longitude</th>\n",
       "      <th>Elevation (Meters)</th>\n",
       "      <th>Dominant Rock Type</th>\n",
       "      <th>Tectonic Setting</th>\n",
       "    </tr>\n",
       "  </thead>\n",
       "  <tbody>\n",
       "    <tr>\n",
       "      <th>0</th>\n",
       "      <td>210010</td>\n",
       "      <td>West Eifel Volcanic Field</td>\n",
       "      <td>Germany</td>\n",
       "      <td>Mediterranean and Western Asia</td>\n",
       "      <td>Maar(s)</td>\n",
       "      <td>Eruption Dated</td>\n",
       "      <td>8300 BCE</td>\n",
       "      <td>50.170</td>\n",
       "      <td>6.85</td>\n",
       "      <td>600</td>\n",
       "      <td>Foidite</td>\n",
       "      <td>Rift Zone / Continental Crust (&gt;25 km)</td>\n",
       "    </tr>\n",
       "    <tr>\n",
       "      <th>1</th>\n",
       "      <td>210020</td>\n",
       "      <td>Chaine des Puys</td>\n",
       "      <td>France</td>\n",
       "      <td>Mediterranean and Western Asia</td>\n",
       "      <td>Lava dome(s)</td>\n",
       "      <td>Eruption Dated</td>\n",
       "      <td>4040 BCE</td>\n",
       "      <td>45.775</td>\n",
       "      <td>2.97</td>\n",
       "      <td>1464</td>\n",
       "      <td>Basalt / Picro-Basalt</td>\n",
       "      <td>Rift Zone / Continental Crust (&gt;25 km)</td>\n",
       "    </tr>\n",
       "    <tr>\n",
       "      <th>2</th>\n",
       "      <td>210030</td>\n",
       "      <td>Olot Volcanic Field</td>\n",
       "      <td>Spain</td>\n",
       "      <td>Mediterranean and Western Asia</td>\n",
       "      <td>Pyroclastic cone(s)</td>\n",
       "      <td>Evidence Credible</td>\n",
       "      <td>Unknown</td>\n",
       "      <td>42.170</td>\n",
       "      <td>2.53</td>\n",
       "      <td>893</td>\n",
       "      <td>Trachybasalt / Tephrite Basanite</td>\n",
       "      <td>Intraplate / Continental Crust (&gt;25 km)</td>\n",
       "    </tr>\n",
       "    <tr>\n",
       "      <th>3</th>\n",
       "      <td>210040</td>\n",
       "      <td>Calatrava Volcanic Field</td>\n",
       "      <td>Spain</td>\n",
       "      <td>Mediterranean and Western Asia</td>\n",
       "      <td>Pyroclastic cone(s)</td>\n",
       "      <td>Eruption Dated</td>\n",
       "      <td>3600 BCE</td>\n",
       "      <td>38.870</td>\n",
       "      <td>-4.02</td>\n",
       "      <td>1117</td>\n",
       "      <td>Basalt / Picro-Basalt</td>\n",
       "      <td>Intraplate / Continental Crust (&gt;25 km)</td>\n",
       "    </tr>\n",
       "    <tr>\n",
       "      <th>4</th>\n",
       "      <td>211001</td>\n",
       "      <td>Larderello</td>\n",
       "      <td>Italy</td>\n",
       "      <td>Mediterranean and Western Asia</td>\n",
       "      <td>Explosion crater(s)</td>\n",
       "      <td>Eruption Observed</td>\n",
       "      <td>1282 CE</td>\n",
       "      <td>43.250</td>\n",
       "      <td>10.87</td>\n",
       "      <td>500</td>\n",
       "      <td>No Data</td>\n",
       "      <td>Subduction Zone / Continental Crust (&gt;25 km)</td>\n",
       "    </tr>\n",
       "  </tbody>\n",
       "</table>\n",
       "</div>"
      ],
      "text/plain": [
       "   Number                       Name  Country                          Region  \\\n",
       "0  210010  West Eifel Volcanic Field  Germany  Mediterranean and Western Asia   \n",
       "1  210020            Chaine des Puys   France  Mediterranean and Western Asia   \n",
       "2  210030        Olot Volcanic Field    Spain  Mediterranean and Western Asia   \n",
       "3  210040   Calatrava Volcanic Field    Spain  Mediterranean and Western Asia   \n",
       "4  211001                 Larderello    Italy  Mediterranean and Western Asia   \n",
       "\n",
       "                  Type  Activity Evidence Last Known Eruption  Latitude  \\\n",
       "0              Maar(s)     Eruption Dated            8300 BCE    50.170   \n",
       "1         Lava dome(s)     Eruption Dated            4040 BCE    45.775   \n",
       "2  Pyroclastic cone(s)  Evidence Credible             Unknown    42.170   \n",
       "3  Pyroclastic cone(s)     Eruption Dated            3600 BCE    38.870   \n",
       "4  Explosion crater(s)  Eruption Observed             1282 CE    43.250   \n",
       "\n",
       "   Longitude  Elevation (Meters)                Dominant Rock Type  \\\n",
       "0       6.85                 600                           Foidite   \n",
       "1       2.97                1464             Basalt / Picro-Basalt   \n",
       "2       2.53                 893  Trachybasalt / Tephrite Basanite   \n",
       "3      -4.02                1117             Basalt / Picro-Basalt   \n",
       "4      10.87                 500                           No Data   \n",
       "\n",
       "                               Tectonic Setting  \n",
       "0        Rift Zone / Continental Crust (>25 km)  \n",
       "1        Rift Zone / Continental Crust (>25 km)  \n",
       "2       Intraplate / Continental Crust (>25 km)  \n",
       "3       Intraplate / Continental Crust (>25 km)  \n",
       "4  Subduction Zone / Continental Crust (>25 km)  "
      ]
     },
     "execution_count": 30,
     "metadata": {},
     "output_type": "execute_result"
    }
   ],
   "source": [
    "file = \"data/volcanoes.xlsx\"\n",
    "\n",
    "# Pandas excel loader is built off of several other excel readers,\n",
    "# such as openXLRD and xlsxwriter\n",
    "\n",
    "# this is reflected in how many ways there are to read in an excel file.\n",
    "basicLoad = pd.read_excel(file)\n",
    "alternateLoad = pd.ExcelFile(file)\n",
    "\n",
    "basicLoad.head()"
   ]
  },
  {
   "cell_type": "code",
   "execution_count": 33,
   "metadata": {
    "collapsed": false
   },
   "outputs": [],
   "source": [
    "# read_excel defaults to read the first sheet in an excel book\n",
    "# For a comprehensive list of parameters for read_excel, see: http://pandas.pydata.org/pandas-docs/stable/generated/pandas.read_excel.html\n",
    "# you can specify the sheets you want by name\n",
    "sheetByName = pd.read_excel(file, sheetname=\"volcanoes\")\n",
    "# by index\n",
    "sheetsByIndex = pd.read_excel(file, sheetname=[0])\n",
    "\n",
    "# if you don't know which sheets you want, you can specify header=None and\n",
    "# all sheets will be loaded in a nested structure:\n",
    "allSheetsByHeader = pd.read_excel(file, header=None)\n",
    "allSheetsBySheets = pd.read_excel(file, sheetname=0)\n",
    "\n",
    "# You can skip rows or columns\n",
    "cols = ['Number', 'Name', 'Country', 'Region', 'Type', 'Activity Evidence',\n",
    "        'Last Known Eruption', 'Latitude', 'Longitude', 'Elevation (Meters)',\n",
    "        'Dominant Rock Type', 'Tectonic Setting']\n",
    "subset = pd.read_excel(file, skip_footer=5, skiprows=2, names=cols)"
   ]
  },
  {
   "cell_type": "markdown",
   "metadata": {},
   "source": [
    "## .json — JavaScript Object Notation\n",
    "\n",
    "JSON is a common web and API communication format and easy to read. It also happens to be copy/paste compatible as native Python code (with some restrictions the other way around)\n",
    "\n",
    "### Std Python"
   ]
  },
  {
   "cell_type": "code",
   "execution_count": 69,
   "metadata": {
    "collapsed": false
   },
   "outputs": [
    {
     "name": "stdout",
     "output_type": "stream",
     "text": [
      "[{\"name\": \"Michael\", \"fav_color\": \"purple\"}, {\"name\": \"Casey\", \"fav_color\": \"turquoise\"}]\n"
     ]
    }
   ],
   "source": [
    "import json\n",
    "\n",
    "color_data = [\n",
    "    {\"name\": \"Michael\", \"fav_color\": \"purple\"},\n",
    "    {\"name\": \"Casey\", \"fav_color\": \"turquoise\"}\n",
    "]\n",
    "\n",
    "#load, loads, dump, and dumps are common library APIs\n",
    "#load/dump tkae file objects while loads/dumps take strings\n",
    "print(json.dumps(color_data))"
   ]
  },
  {
   "cell_type": "code",
   "execution_count": 54,
   "metadata": {
    "collapsed": false
   },
   "outputs": [
    {
     "name": "stdout",
     "output_type": "stream",
     "text": [
      "Rows: 1508\n"
     ]
    }
   ],
   "source": [
    "json_data = json.load(open('data/volcanoes.json'))\n",
    "print('Rows:', len(json_data))"
   ]
  },
  {
   "cell_type": "markdown",
   "metadata": {},
   "source": [
    "### Pandas"
   ]
  },
  {
   "cell_type": "code",
   "execution_count": 52,
   "metadata": {
    "collapsed": false
   },
   "outputs": [
    {
     "data": {
      "text/html": [
       "<div>\n",
       "<table border=\"1\" class=\"dataframe\">\n",
       "  <thead>\n",
       "    <tr style=\"text-align: right;\">\n",
       "      <th></th>\n",
       "      <th>Activity Evidence</th>\n",
       "      <th>Country</th>\n",
       "      <th>Dominant Rock Type</th>\n",
       "      <th>Elevation (Meters)</th>\n",
       "      <th>Last Known Eruption</th>\n",
       "      <th>Latitude</th>\n",
       "      <th>Longitude</th>\n",
       "      <th>Name</th>\n",
       "      <th>Number</th>\n",
       "      <th>Region</th>\n",
       "      <th>Tectonic Setting</th>\n",
       "      <th>Type</th>\n",
       "    </tr>\n",
       "  </thead>\n",
       "  <tbody>\n",
       "    <tr>\n",
       "      <th>0</th>\n",
       "      <td>Eruption Dated</td>\n",
       "      <td>Germany</td>\n",
       "      <td>Foidite</td>\n",
       "      <td>600</td>\n",
       "      <td>8300 BCE</td>\n",
       "      <td>50.170</td>\n",
       "      <td>6.85</td>\n",
       "      <td>West Eifel Volcanic Field</td>\n",
       "      <td>210010</td>\n",
       "      <td>Mediterranean and Western Asia</td>\n",
       "      <td>Rift Zone / Continental Crust (&gt;25 km)</td>\n",
       "      <td>Maar(s)</td>\n",
       "    </tr>\n",
       "    <tr>\n",
       "      <th>1</th>\n",
       "      <td>Eruption Dated</td>\n",
       "      <td>France</td>\n",
       "      <td>Basalt / Picro-Basalt</td>\n",
       "      <td>1464</td>\n",
       "      <td>4040 BCE</td>\n",
       "      <td>45.775</td>\n",
       "      <td>2.97</td>\n",
       "      <td>Chaine des Puys</td>\n",
       "      <td>210020</td>\n",
       "      <td>Mediterranean and Western Asia</td>\n",
       "      <td>Rift Zone / Continental Crust (&gt;25 km)</td>\n",
       "      <td>Lava dome(s)</td>\n",
       "    </tr>\n",
       "    <tr>\n",
       "      <th>2</th>\n",
       "      <td>Evidence Credible</td>\n",
       "      <td>Spain</td>\n",
       "      <td>Trachybasalt / Tephrite Basanite</td>\n",
       "      <td>893</td>\n",
       "      <td>Unknown</td>\n",
       "      <td>42.170</td>\n",
       "      <td>2.53</td>\n",
       "      <td>Olot Volcanic Field</td>\n",
       "      <td>210030</td>\n",
       "      <td>Mediterranean and Western Asia</td>\n",
       "      <td>Intraplate / Continental Crust (&gt;25 km)</td>\n",
       "      <td>Pyroclastic cone(s)</td>\n",
       "    </tr>\n",
       "    <tr>\n",
       "      <th>3</th>\n",
       "      <td>Eruption Dated</td>\n",
       "      <td>Spain</td>\n",
       "      <td>Basalt / Picro-Basalt</td>\n",
       "      <td>1117</td>\n",
       "      <td>3600 BCE</td>\n",
       "      <td>38.870</td>\n",
       "      <td>-4.02</td>\n",
       "      <td>Calatrava Volcanic Field</td>\n",
       "      <td>210040</td>\n",
       "      <td>Mediterranean and Western Asia</td>\n",
       "      <td>Intraplate / Continental Crust (&gt;25 km)</td>\n",
       "      <td>Pyroclastic cone(s)</td>\n",
       "    </tr>\n",
       "    <tr>\n",
       "      <th>4</th>\n",
       "      <td>Eruption Observed</td>\n",
       "      <td>Italy</td>\n",
       "      <td>No Data</td>\n",
       "      <td>500</td>\n",
       "      <td>1282 CE</td>\n",
       "      <td>43.250</td>\n",
       "      <td>10.87</td>\n",
       "      <td>Larderello</td>\n",
       "      <td>211001</td>\n",
       "      <td>Mediterranean and Western Asia</td>\n",
       "      <td>Subduction Zone / Continental Crust (&gt;25 km)</td>\n",
       "      <td>Explosion crater(s)</td>\n",
       "    </tr>\n",
       "  </tbody>\n",
       "</table>\n",
       "</div>"
      ],
      "text/plain": [
       "   Activity Evidence  Country                Dominant Rock Type  \\\n",
       "0     Eruption Dated  Germany                           Foidite   \n",
       "1     Eruption Dated   France             Basalt / Picro-Basalt   \n",
       "2  Evidence Credible    Spain  Trachybasalt / Tephrite Basanite   \n",
       "3     Eruption Dated    Spain             Basalt / Picro-Basalt   \n",
       "4  Eruption Observed    Italy                           No Data   \n",
       "\n",
       "   Elevation (Meters) Last Known Eruption  Latitude  Longitude  \\\n",
       "0                 600            8300 BCE    50.170       6.85   \n",
       "1                1464            4040 BCE    45.775       2.97   \n",
       "2                 893             Unknown    42.170       2.53   \n",
       "3                1117            3600 BCE    38.870      -4.02   \n",
       "4                 500             1282 CE    43.250      10.87   \n",
       "\n",
       "                        Name  Number                          Region  \\\n",
       "0  West Eifel Volcanic Field  210010  Mediterranean and Western Asia   \n",
       "1            Chaine des Puys  210020  Mediterranean and Western Asia   \n",
       "2        Olot Volcanic Field  210030  Mediterranean and Western Asia   \n",
       "3   Calatrava Volcanic Field  210040  Mediterranean and Western Asia   \n",
       "4                 Larderello  211001  Mediterranean and Western Asia   \n",
       "\n",
       "                               Tectonic Setting                 Type  \n",
       "0        Rift Zone / Continental Crust (>25 km)              Maar(s)  \n",
       "1        Rift Zone / Continental Crust (>25 km)         Lava dome(s)  \n",
       "2       Intraplate / Continental Crust (>25 km)  Pyroclastic cone(s)  \n",
       "3       Intraplate / Continental Crust (>25 km)  Pyroclastic cone(s)  \n",
       "4  Subduction Zone / Continental Crust (>25 km)  Explosion crater(s)  "
      ]
     },
     "execution_count": 52,
     "metadata": {},
     "output_type": "execute_result"
    }
   ],
   "source": [
    "json_df = pd.read_json('data/volcanoes.json')\n",
    "json_df.head()"
   ]
  },
  {
   "cell_type": "markdown",
   "metadata": {},
   "source": [
    "## .xml — eXtensible Markup Language\n",
    "\n",
    "XML looks and acts just like HTML. It is a popular web format but is being superseded by JSON\n",
    "\n",
    "### Std Python"
   ]
  },
  {
   "cell_type": "code",
   "execution_count": 60,
   "metadata": {
    "collapsed": false
   },
   "outputs": [
    {
     "name": "stdout",
     "output_type": "stream",
     "text": [
      "Number  --  210010\n",
      "Name  --  West Eifel Volcanic Field\n",
      "Country  --  Germany\n",
      "Region  --  Mediterranean and Western Asia\n",
      "Type  --  Maar(s)\n",
      "Activity_Evidence  --  Eruption Dated\n",
      "Last_Known_Eruption  --  8300 BCE\n",
      "Latitude  --  50.17\n",
      "Longitude  --  6.85\n",
      "key  --  600\n",
      "Dominant_Rock_Type  --  Foidite\n",
      "Tectonic_Setting  --  Rift Zone / Continental Crust (>25 km)\n"
     ]
    }
   ],
   "source": [
    "import xml.etree.ElementTree as ET\n",
    "\n",
    "tree = ET.parse('data/volcano.xml')\n",
    "#ET.fromstring(some_xml_string)\n",
    "root = tree.getroot()\n",
    "\n",
    "for item in root:\n",
    "    print(item.tag, ' -- ', item.text)"
   ]
  },
  {
   "cell_type": "markdown",
   "metadata": {},
   "source": [
    "### Pandas\n",
    "\n",
    "There is no native way to read or write XML with pandas. There are plenty of code snippets out there if you absolutely need to"
   ]
  },
  {
   "cell_type": "markdown",
   "metadata": {},
   "source": [
    "## .yml .yaml — Yet Another Markup Language\n",
    "\n",
    "YAML has less overhead than JSON and can reference other objects within the same file to save space\n",
    "\n",
    "### Std Python"
   ]
  },
  {
   "cell_type": "code",
   "execution_count": 67,
   "metadata": {
    "collapsed": false
   },
   "outputs": [
    {
     "name": "stdout",
     "output_type": "stream",
     "text": [
      "Rows: 1508\n"
     ]
    }
   ],
   "source": [
    "import yaml\n",
    "\n",
    "yaml_data = yaml.load(open('data/volcanoes.yml'))\n",
    "print('Rows:', len(yaml_data))"
   ]
  },
  {
   "cell_type": "markdown",
   "metadata": {},
   "source": [
    "### Pandas\n",
    "\n",
    "There's not a native way to read in YAML data to Pandas, but you could use it's JSON lib to do so"
   ]
  },
  {
   "cell_type": "code",
   "execution_count": 68,
   "metadata": {
    "collapsed": false
   },
   "outputs": [
    {
     "data": {
      "text/html": [
       "<div>\n",
       "<table border=\"1\" class=\"dataframe\">\n",
       "  <thead>\n",
       "    <tr style=\"text-align: right;\">\n",
       "      <th></th>\n",
       "      <th>Activity Evidence</th>\n",
       "      <th>Country</th>\n",
       "      <th>Dominant Rock Type</th>\n",
       "      <th>Elevation (Meters)</th>\n",
       "      <th>Last Known Eruption</th>\n",
       "      <th>Latitude</th>\n",
       "      <th>Longitude</th>\n",
       "      <th>Name</th>\n",
       "      <th>Number</th>\n",
       "      <th>Region</th>\n",
       "      <th>Tectonic Setting</th>\n",
       "      <th>Type</th>\n",
       "    </tr>\n",
       "  </thead>\n",
       "  <tbody>\n",
       "    <tr>\n",
       "      <th>0</th>\n",
       "      <td>Eruption Dated</td>\n",
       "      <td>Germany</td>\n",
       "      <td>Foidite</td>\n",
       "      <td>600</td>\n",
       "      <td>8300 BCE</td>\n",
       "      <td>50.17</td>\n",
       "      <td>6.85</td>\n",
       "      <td>West Eifel Volcanic Field</td>\n",
       "      <td>210010</td>\n",
       "      <td>Mediterranean and Western Asia</td>\n",
       "      <td>Rift Zone / Continental Crust (&gt;25 km)</td>\n",
       "      <td>Maar(s)</td>\n",
       "    </tr>\n",
       "    <tr>\n",
       "      <th>1</th>\n",
       "      <td>Eruption Dated</td>\n",
       "      <td>France</td>\n",
       "      <td>Basalt / Picro-Basalt</td>\n",
       "      <td>1464</td>\n",
       "      <td>4040 BCE</td>\n",
       "      <td>45.775</td>\n",
       "      <td>2.97</td>\n",
       "      <td>Chaine des Puys</td>\n",
       "      <td>210020</td>\n",
       "      <td>Mediterranean and Western Asia</td>\n",
       "      <td>Rift Zone / Continental Crust (&gt;25 km)</td>\n",
       "      <td>Lava dome(s)</td>\n",
       "    </tr>\n",
       "    <tr>\n",
       "      <th>2</th>\n",
       "      <td>Evidence Credible</td>\n",
       "      <td>Spain</td>\n",
       "      <td>Trachybasalt / Tephrite Basanite</td>\n",
       "      <td>893</td>\n",
       "      <td>Unknown</td>\n",
       "      <td>42.17</td>\n",
       "      <td>2.53</td>\n",
       "      <td>Olot Volcanic Field</td>\n",
       "      <td>210030</td>\n",
       "      <td>Mediterranean and Western Asia</td>\n",
       "      <td>Intraplate / Continental Crust (&gt;25 km)</td>\n",
       "      <td>Pyroclastic cone(s)</td>\n",
       "    </tr>\n",
       "    <tr>\n",
       "      <th>3</th>\n",
       "      <td>Eruption Dated</td>\n",
       "      <td>Spain</td>\n",
       "      <td>Basalt / Picro-Basalt</td>\n",
       "      <td>1117</td>\n",
       "      <td>3600 BCE</td>\n",
       "      <td>38.87</td>\n",
       "      <td>-4.02</td>\n",
       "      <td>Calatrava Volcanic Field</td>\n",
       "      <td>210040</td>\n",
       "      <td>Mediterranean and Western Asia</td>\n",
       "      <td>Intraplate / Continental Crust (&gt;25 km)</td>\n",
       "      <td>Pyroclastic cone(s)</td>\n",
       "    </tr>\n",
       "    <tr>\n",
       "      <th>4</th>\n",
       "      <td>Eruption Observed</td>\n",
       "      <td>Italy</td>\n",
       "      <td>No Data</td>\n",
       "      <td>500</td>\n",
       "      <td>1282 CE</td>\n",
       "      <td>43.25</td>\n",
       "      <td>10.87</td>\n",
       "      <td>Larderello</td>\n",
       "      <td>211001</td>\n",
       "      <td>Mediterranean and Western Asia</td>\n",
       "      <td>Subduction Zone / Continental Crust (&gt;25 km)</td>\n",
       "      <td>Explosion crater(s)</td>\n",
       "    </tr>\n",
       "  </tbody>\n",
       "</table>\n",
       "</div>"
      ],
      "text/plain": [
       "   Activity Evidence  Country                Dominant Rock Type  \\\n",
       "0     Eruption Dated  Germany                           Foidite   \n",
       "1     Eruption Dated   France             Basalt / Picro-Basalt   \n",
       "2  Evidence Credible    Spain  Trachybasalt / Tephrite Basanite   \n",
       "3     Eruption Dated    Spain             Basalt / Picro-Basalt   \n",
       "4  Eruption Observed    Italy                           No Data   \n",
       "\n",
       "  Elevation (Meters) Last Known Eruption Latitude Longitude  \\\n",
       "0                600            8300 BCE    50.17      6.85   \n",
       "1               1464            4040 BCE   45.775      2.97   \n",
       "2                893             Unknown    42.17      2.53   \n",
       "3               1117            3600 BCE    38.87     -4.02   \n",
       "4                500             1282 CE    43.25     10.87   \n",
       "\n",
       "                        Name  Number                          Region  \\\n",
       "0  West Eifel Volcanic Field  210010  Mediterranean and Western Asia   \n",
       "1            Chaine des Puys  210020  Mediterranean and Western Asia   \n",
       "2        Olot Volcanic Field  210030  Mediterranean and Western Asia   \n",
       "3   Calatrava Volcanic Field  210040  Mediterranean and Western Asia   \n",
       "4                 Larderello  211001  Mediterranean and Western Asia   \n",
       "\n",
       "                               Tectonic Setting                 Type  \n",
       "0        Rift Zone / Continental Crust (>25 km)              Maar(s)  \n",
       "1        Rift Zone / Continental Crust (>25 km)         Lava dome(s)  \n",
       "2       Intraplate / Continental Crust (>25 km)  Pyroclastic cone(s)  \n",
       "3       Intraplate / Continental Crust (>25 km)  Pyroclastic cone(s)  \n",
       "4  Subduction Zone / Continental Crust (>25 km)  Explosion crater(s)  "
      ]
     },
     "execution_count": 68,
     "metadata": {},
     "output_type": "execute_result"
    }
   ],
   "source": [
    "yaml_df = pd.io.json.json_normalize(yaml.load(open('data/volcanoes.yml')))\n",
    "yaml_df.head()"
   ]
  },
  {
   "cell_type": "markdown",
   "metadata": {},
   "source": [
    "## .p .pkl — Pickle\n",
    "\n",
    "Pickle files allow us to save and restore binary copies of native language objects (int, list, DataFrame, custom class, etc)\n",
    "\n",
    "### Std Python"
   ]
  },
  {
   "cell_type": "code",
   "execution_count": 72,
   "metadata": {
    "collapsed": false
   },
   "outputs": [
    {
     "name": "stdout",
     "output_type": "stream",
     "text": [
      "Raw hex format:\n",
      " b'\\x80\\x03]q\\x00(}q\\x01(X\\x04\\x00\\x00\\x00nameq\\x02X\\x07\\x00\\x00\\x00Michaelq\\x03X\\t\\x00\\x00\\x00fav_colorq\\x04X\\x06\\x00\\x00\\x00purpleq\\x05u}q\\x06(h\\x02X\\x05\\x00\\x00\\x00Caseyq\\x07h\\x04X\\t\\x00\\x00\\x00turquoiseq\\x08ue.'\n",
      "\n",
      "Same? : True\n"
     ]
    }
   ],
   "source": [
    "import pickle\n",
    "\n",
    "print('Raw hex format:\\n', pickle.dumps(color_data))\n",
    "pickle.dump(color_data, open('data/colors.pkl', 'wb'))\n",
    "new_data = pickle.load(open('data/colors.pkl', 'rb'))\n",
    "\n",
    "print(\"\\nSame? :\", color_data == new_data)"
   ]
  },
  {
   "cell_type": "markdown",
   "metadata": {},
   "source": [
    "### Pandas"
   ]
  },
  {
   "cell_type": "code",
   "execution_count": 46,
   "metadata": {
    "collapsed": false
   },
   "outputs": [
    {
     "data": {
      "text/html": [
       "<div>\n",
       "<table border=\"1\" class=\"dataframe\">\n",
       "  <thead>\n",
       "    <tr style=\"text-align: right;\">\n",
       "      <th></th>\n",
       "      <th>fav_color</th>\n",
       "      <th>name</th>\n",
       "    </tr>\n",
       "  </thead>\n",
       "  <tbody>\n",
       "    <tr>\n",
       "      <th>0</th>\n",
       "      <td>purple</td>\n",
       "      <td>Michael</td>\n",
       "    </tr>\n",
       "    <tr>\n",
       "      <th>1</th>\n",
       "      <td>turquoise</td>\n",
       "      <td>Casey</td>\n",
       "    </tr>\n",
       "  </tbody>\n",
       "</table>\n",
       "</div>"
      ],
      "text/plain": [
       "   fav_color     name\n",
       "0     purple  Michael\n",
       "1  turquoise    Casey"
      ]
     },
     "execution_count": 46,
     "metadata": {},
     "output_type": "execute_result"
    }
   ],
   "source": [
    "color_df = pd.DataFrame(pd.read_pickle('data/colors.pkl'))\n",
    "color_df"
   ]
  },
  {
   "cell_type": "code",
   "execution_count": 47,
   "metadata": {
    "collapsed": true
   },
   "outputs": [],
   "source": [
    "color_df.to_pickle('data/color_df.pkl')"
   ]
  },
  {
   "cell_type": "markdown",
   "metadata": {
    "collapsed": true
   },
   "source": [
    "## Bonus\n",
    "\n",
    "Here are some scripts we used to create the different datasets"
   ]
  },
  {
   "cell_type": "code",
   "execution_count": 37,
   "metadata": {
    "collapsed": true
   },
   "outputs": [],
   "source": [
    "#Create full JSON from CSV\n",
    "with open('data/volcanoes.csv') as fin:\n",
    "    data = [dict(row) for row in csv.DictReader(fin)]\n",
    "    json.dump(data, open('data/volcanoes.json', 'w'))"
   ]
  },
  {
   "cell_type": "code",
   "execution_count": null,
   "metadata": {
    "collapsed": true
   },
   "outputs": [],
   "source": [
    "#Create single element XML from the JSON data\n",
    "#This library is not included\n",
    "from dicttoxml import dicttoxml\n",
    "print(dicttoxml(json_data[0]), file=open('data/volcano.xml'))"
   ]
  },
  {
   "cell_type": "code",
   "execution_count": 64,
   "metadata": {
    "collapsed": true
   },
   "outputs": [],
   "source": [
    "#Create full YAML from the JSON data\n",
    "yaml.dump(json_data, open('data/volcanoes.yml', 'w'))"
   ]
  }
 ],
 "metadata": {
  "kernelspec": {
   "display_name": "Python 3",
   "language": "python",
   "name": "python3"
  },
  "language_info": {
   "codemirror_mode": {
    "name": "ipython",
    "version": 3
   },
   "file_extension": ".py",
   "mimetype": "text/x-python",
   "name": "python",
   "nbconvert_exporter": "python",
   "pygments_lexer": "ipython3",
   "version": "3.6.0"
  }
 },
 "nbformat": 4,
 "nbformat_minor": 2
}
